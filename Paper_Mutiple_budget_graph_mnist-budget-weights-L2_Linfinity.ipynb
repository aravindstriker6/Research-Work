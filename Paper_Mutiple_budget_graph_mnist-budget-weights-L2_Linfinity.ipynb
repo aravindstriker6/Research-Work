{
 "cells": [
  {
   "cell_type": "code",
   "execution_count": 1,
   "metadata": {},
   "outputs": [],
   "source": [
    "import numpy as np\n",
    "import argparse\n",
    "import time\n",
    "import os\n",
    "import collections\n",
    "import json\n",
    "import queue\n",
    "import time\n",
    "\n",
    "from utils.data_utils import load_dataset_numpy\n",
    "\n",
    "import scipy.spatial.distance\n",
    "\n",
    "from scipy.sparse import csr_matrix, coo_matrix\n",
    "from scipy.sparse.csgraph import maximum_flow\n",
    "from utils.flow import _make_edge_pointers\n",
    "\n",
    "from cvxopt import solvers, matrix, spdiag, log, mul, sparse, spmatrix"
   ]
  },
  {
   "cell_type": "code",
   "execution_count": 2,
   "metadata": {},
   "outputs": [],
   "source": [
    "def minll(G,h,p):\n",
    "    m,v_in=G.size\n",
    "    def F(x=None,z=None):\n",
    "        if x is None:\n",
    "            return 0, matrix(1.0,(v,1))\n",
    "        if min(x)<=0.0:\n",
    "            return None\n",
    "        f = -sum(mul(p,log(x)))\n",
    "        Df = mul(p.T,-(x**-1).T)\n",
    "        if z is None:\n",
    "            return f,Df\n",
    "        # Fix the Hessian\n",
    "        H = spdiag(z[0]*mul(p,x**-2))\n",
    "        return f,Df,H\n",
    "    return solvers.cp(F,G=G,h=h)"
   ]
  },
  {
   "cell_type": "code",
   "execution_count": 3,
   "metadata": {},
   "outputs": [],
   "source": [
    "def find_remaining_cap_edges(edge_ptr,capacities,heads,tails, source, sink):\n",
    "    ITYPE = np.int32\n",
    "    n_verts = edge_ptr.shape[0] - 1\n",
    "    n_edges = capacities.shape[0]\n",
    "    ITYPE_MAX = np.iinfo(ITYPE).max\n",
    "\n",
    "    # Our result array will keep track of the flow along each edge\n",
    "    flow = np.zeros(n_edges, dtype=ITYPE)\n",
    "\n",
    "    # Create a circular queue for breadth-first search. Elements are\n",
    "    # popped dequeued at index start and queued at index end.\n",
    "    q = np.empty(n_verts, dtype=ITYPE)\n",
    "\n",
    "    # Create an array indexing predecessor edges\n",
    "    pred_edge = np.empty(n_verts, dtype=ITYPE)\n",
    "\n",
    "    # While augmenting paths from source to sink exist\n",
    "    for k in range(n_verts):\n",
    "        pred_edge[k] = -1\n",
    "    path_edges = []\n",
    "    # Reset queue to consist only of source\n",
    "    q[0] = source\n",
    "    start = 0\n",
    "    end = 1\n",
    "    # While we have not found a path, and queue is not empty\n",
    "    path_found = False\n",
    "    while start != end and not path_found:\n",
    "        # Pop queue\n",
    "        cur = q[start]\n",
    "        start += 1\n",
    "        if start == n_verts:\n",
    "            start = 0\n",
    "        # Loop over all edges from the current vertex\n",
    "        for e in range(edge_ptr[cur], edge_ptr[cur + 1]):\n",
    "            t = heads[e]\n",
    "            if pred_edge[t] == -1 and t != source and\\\n",
    "                    capacities[e] > flow[e]:\n",
    "                pred_edge[t] = e\n",
    "                path_edges.append((cur,t))\n",
    "                if t == sink:\n",
    "                    path_found = True\n",
    "                    break\n",
    "                # Push to queue\n",
    "                q[end] = t\n",
    "                end += 1\n",
    "                if end == n_verts:\n",
    "                    end = 0\n",
    "    return path_edges\n"
   ]
  },
  {
   "cell_type": "code",
   "execution_count": 4,
   "metadata": {},
   "outputs": [],
   "source": [
    "def create_graph_rep(edge_matrix,n_1,n_2,weights):\n",
    "    graph_rep = []\n",
    "    for i in range(n_1+n_2+2):\n",
    "        graph_rep.append([])\n",
    "        if i==0:\n",
    "            #source\n",
    "            for j in range(n_1+n_2+2):\n",
    "                if j==0:\n",
    "                    graph_rep[i].append(0)\n",
    "                elif 1<=j<=n_1:\n",
    "                    graph_rep[i].append(weights[j-1])\n",
    "                elif n_1<j<=n_1+n_2+1:\n",
    "                    graph_rep[i].append(0)\n",
    "        elif 1<=i<=n_1:\n",
    "            # LHS vertices\n",
    "            for j in range(n_1+n_2+2):\n",
    "                if j<=n_1:\n",
    "                    graph_rep[i].append(0)\n",
    "                elif n_1<j<=n_1+n_2:\n",
    "                    if edge_matrix[i-1,j-n_1-1]:\n",
    "                        graph_rep[i].append(1)\n",
    "                    else:\n",
    "                        graph_rep[i].append(0)\n",
    "                elif n_1+n_2<j:\n",
    "                    graph_rep[i].append(0)\n",
    "        elif n_1<i<=n_1+n_2:\n",
    "            #RHS vertices\n",
    "            for j in range(n_1+n_2+2):\n",
    "                if j<=n_1+n_2:\n",
    "                    graph_rep[i].append(0)\n",
    "                elif j>n_1+n_2:\n",
    "                    graph_rep[i].append(weights[i-1])\n",
    "        elif i==n_1+n_2+1:\n",
    "            #Sink\n",
    "            for j in range(n_1+n_2+2):\n",
    "                graph_rep[i].append(0)\n",
    "\n",
    "    graph_rep_array=np.array(graph_rep)\n",
    "\n",
    "    return graph_rep_array"
   ]
  },
  {
   "cell_type": "code",
   "execution_count": 5,
   "metadata": {},
   "outputs": [],
   "source": [
    "def set_classifier_prob_full_flow(top_level_vertices,w_1_curr,w_2_curr):\n",
    "    for item in top_level_vertices:\n",
    "        if item !=0 and item != sink_idx:\n",
    "            classifier_probs[item-1,0]=w_1_curr/(w_1_curr+w_2_curr)\n",
    "            classifier_probs[item-1,1]=w_2_curr/(w_1_curr+w_2_curr)"
   ]
  },
  {
   "cell_type": "code",
   "execution_count": 6,
   "metadata": {},
   "outputs": [],
   "source": [
    "def set_classifier_prob_no_flow(top_level_vertices):\n",
    "    for item in top_level_vertices:\n",
    "        if item !=0 and item != sink_idx:\n",
    "            if item<=n_1:\n",
    "                classifier_probs[item-1,0]=1\n",
    "                classifier_probs[item-1,1]=0\n",
    "            elif item>n_1:\n",
    "                classifier_probs[item-1,0]=0\n",
    "                classifier_probs[item-1,1]=1"
   ]
  },
  {
   "cell_type": "code",
   "execution_count": 7,
   "metadata": {},
   "outputs": [],
   "source": [
    "def graph_rescale(graph_rep_curr,top_level_indices,weights):\n",
    "    class_1_vertices=top_level_indices[( top_level_indices> 0) & (top_level_indices<=n_1)]\n",
    "    class_1_weights=weights[class_1_vertices-1]\n",
    "    w_1_curr=np.sum(class_1_weights)\n",
    "    class_2_vertices=top_level_indices[ (top_level_indices>n_1) & (top_level_indices<=n_1+n_2)]\n",
    "    class_2_weights=weights[class_2_vertices-1]\n",
    "    w_2_curr=np.sum(class_2_weights)\n",
    "    n_1_curr=len(class_1_vertices)\n",
    "    n_2_curr=len(class_2_vertices)\n",
    "    #n_1_curr=len(np.where(top_level_indices<=n_1)[0])-1\n",
    "    #n_2_curr=len(np.where(top_level_indices>n_1)[0])-1\n",
    "    # source rescale\n",
    "    # print(graph_rep_curr[0])\n",
    "    #graph_rep_curr[0,:]=graph_rep_curr[0,:]/n_2\n",
    "    graph_rep_curr[0,:]= (graph_rep_curr[0,:]*w_2_curr)\n",
    "    # print(graph_rep_curr[0])\n",
    "    # bipartite graph edge scale\n",
    "    #graph_rep_curr[1:n_1_curr+1,:]=graph_rep_curr[1:n_1_curr+1,:]/(n_1*n_2)\n",
    "    graph_rep_curr[1:n_1_curr+1,:]=(graph_rep_curr[1:n_1_curr+1,:]*(w_1_curr*w_2_curr))\n",
    "    # sink edges rescale\n",
    "    #graph_rep_curr[n_1_curr+1:,:]=graph_rep_curr[n_1_curr+1:,:]/n_1\n",
    "    graph_rep_curr[n_1_curr+1:,:]=(graph_rep_curr[n_1_curr+1:,:]*w_1_curr)\n",
    "    #print(f\"The graph_rep_curr is {graph_rep_curr}, w_1_curr is : {w_1_curr},w_2_curr is : {w_2_curr}\")\n",
    "    return graph_rep_curr,w_1_curr,w_2_curr"
   ]
  },
  {
   "cell_type": "code",
   "execution_count": 8,
   "metadata": {},
   "outputs": [],
   "source": [
    "def find_flow_and_split(top_level_indices,weights):\n",
    "    top_level_indices_1=None\n",
    "    top_level_indices_2=None\n",
    "    #Create subgraph from index array provided\n",
    "    graph_rep_curr = graph_rep_array[top_level_indices]\n",
    "    graph_rep_curr = graph_rep_curr[:,top_level_indices]\n",
    "    graph_rep_curr,w_1_curr,w_2_curr = graph_rescale(graph_rep_curr,top_level_indices,weights)\n",
    "    print(f\"The weight1 is : {w_1_curr} , the weight2 is:{w_2_curr}\")\n",
    "    graph_curr=csr_matrix(graph_rep_curr)\n",
    "    flow_curr = maximum_flow(graph_curr,0,len(top_level_indices)-1)\n",
    "    print(f\"The flow value is:{flow_curr.flow_value}\")\n",
    "    # Checking if full flow occurred, so no need to split\n",
    "    if flow_curr.flow_value==0:\n",
    "        set_classifier_prob_no_flow(top_level_indices)\n",
    "        return top_level_indices_1,top_level_indices_2, flow_curr\n",
    "    elif flow_curr.flow_value==w_1_curr*w_2_curr:\n",
    "        if (w_1_curr*w_2_curr)>=2**32:\n",
    "            print(\"There is overflow\")\n",
    "        set_classifier_prob_full_flow(top_level_indices,w_1_curr,w_2_curr)\n",
    "        return top_level_indices_1,top_level_indices_2, flow_curr\n",
    "    # Finding remaining capacity edges\n",
    "    remainder_array = graph_curr-flow_curr.residual\n",
    "    #print(f\"The remainder array is :{ remainder_array}\")\n",
    "\n",
    "    rev_edge_ptr, tails = _make_edge_pointers(remainder_array)\n",
    "    #print(f\"The rev_edge and tails are : {rev_edge_ptr} and {tails}\")\n",
    "    edge_ptr=remainder_array.indptr\n",
    "    capacities=remainder_array.data\n",
    "    heads=remainder_array.indices\n",
    "\n",
    "    edge_list_curr = find_remaining_cap_edges(edge_ptr,capacities,heads,tails,0,len(top_level_indices)-1)\n",
    "\n",
    "    #print(f\"The edge_list_curr is {edge_list_curr}\")\n",
    "    gz_idx = []\n",
    "    for item in edge_list_curr:\n",
    "        gz_idx.append(item[0])\n",
    "        gz_idx.append(item[1])\n",
    "    #print(f\"The gz_idx is {gz_idx}\")\n",
    "    if len(gz_idx)>0:\n",
    "        gz_idx=np.array(gz_idx)\n",
    "        gz_idx_unique=np.unique(gz_idx)\n",
    "        top_level_gz_idx=top_level_indices[gz_idx_unique]\n",
    "        top_level_gz_idx=np.insert(top_level_gz_idx,len(top_level_gz_idx),sink_idx)\n",
    "        top_level_indices_1=top_level_gz_idx\n",
    "    else:\n",
    "        top_level_gz_idx=np.array([0,sink_idx])\n",
    "    # Indices without flow\n",
    "    top_level_z_idx=np.setdiff1d(top_level_indices,top_level_gz_idx)\n",
    "    if len(top_level_z_idx)>0:\n",
    "        # Add source and sink back to zero flow idx array\n",
    "        top_level_z_idx=np.insert(top_level_z_idx,0,0)\n",
    "        top_level_z_idx=np.insert(top_level_z_idx,len(top_level_z_idx),sink_idx)\n",
    "        top_level_indices_2=top_level_z_idx\n",
    "    #print(top_level_indices_1, top_level_indices_2, flow_curr)\n",
    "    return top_level_indices_1,top_level_indices_2, flow_curr"
   ]
  },
  {
   "cell_type": "code",
   "execution_count": 9,
   "metadata": {},
   "outputs": [],
   "source": [
    "parser = argparse.ArgumentParser()"
   ]
  },
  {
   "cell_type": "code",
   "execution_count": 10,
   "metadata": {},
   "outputs": [
    {
     "data": {
      "text/plain": [
       "_StoreAction(option_strings=['--class_2'], dest='class_2', nargs=None, const=None, default=7, type=<class 'int'>, choices=None, help=None, metavar=None)"
      ]
     },
     "execution_count": 10,
     "metadata": {},
     "output_type": "execute_result"
    }
   ],
   "source": [
    "parser.add_argument(\"--dataset_in\", default='MNIST',\n",
    "                    help=\"dataset to be used\")\n",
    "parser.add_argument(\"--norm\", default='l2',\n",
    "                    help=\"norm to be used\")\n",
    "parser.add_argument('--num_samples', type=int, default=None)\n",
    "parser.add_argument('--n_classes', type=int, default=2)\n",
    "parser.add_argument('--eps', type=str, default=None)\n",
    "parser.add_argument('--approx_only', dest='approx_only', action='store_true')\n",
    "parser.add_argument('--use_test', dest='use_test', action='store_true')\n",
    "parser.add_argument('--track_hard', dest='track_hard', action='store_true')\n",
    "parser.add_argument('--use_full', dest='use_full', action='store_true')\n",
    "parser.add_argument('--run_generic', dest='run_generic', action='store_true')\n",
    "parser.add_argument('--new_marking_strat', type=str, default=None)\n",
    "parser.add_argument('--num_reps', type=int, default=2)\n",
    "parser.add_argument('--class_1', type=int, default=3)\n",
    "parser.add_argument('--class_2', type=int, default=7)"
   ]
  },
  {
   "cell_type": "code",
   "execution_count": 11,
   "metadata": {},
   "outputs": [],
   "source": [
    "args = parser.parse_args(\"--dataset_in=MNIST --num_samples=800 --use_full --eps=0,4\".split())"
   ]
  },
  {
   "cell_type": "code",
   "execution_count": 12,
   "metadata": {},
   "outputs": [
    {
     "data": {
      "text/plain": [
       "Namespace(approx_only=False, class_1=3, class_2=7, dataset_in='MNIST', eps='0,4', n_classes=2, new_marking_strat=None, norm='l2', num_reps=2, num_samples=800, run_generic=False, track_hard=False, use_full=True, use_test=False)"
      ]
     },
     "execution_count": 12,
     "metadata": {},
     "output_type": "execute_result"
    }
   ],
   "source": [
    "args"
   ]
  },
  {
   "cell_type": "code",
   "execution_count": 13,
   "metadata": {},
   "outputs": [],
   "source": [
    "eps=args.eps"
   ]
  },
  {
   "cell_type": "code",
   "execution_count": 14,
   "metadata": {},
   "outputs": [
    {
     "data": {
      "text/plain": [
       "'0,4'"
      ]
     },
     "execution_count": 14,
     "metadata": {},
     "output_type": "execute_result"
    }
   ],
   "source": [
    "eps"
   ]
  },
  {
   "cell_type": "code",
   "execution_count": 15,
   "metadata": {},
   "outputs": [
    {
     "data": {
      "text/plain": [
       "['0', '4']"
      ]
     },
     "execution_count": 15,
     "metadata": {},
     "output_type": "execute_result"
    }
   ],
   "source": [
    "eps=eps.split(',')\n",
    "eps"
   ]
  },
  {
   "cell_type": "code",
   "execution_count": 16,
   "metadata": {},
   "outputs": [
    {
     "data": {
      "text/plain": [
       "[0.0, 4.0]"
      ]
     },
     "execution_count": 16,
     "metadata": {},
     "output_type": "execute_result"
    }
   ],
   "source": [
    "eps=[float(i) for i in eps]\n",
    "eps"
   ]
  },
  {
   "cell_type": "code",
   "execution_count": 17,
   "metadata": {},
   "outputs": [],
   "source": [
    "train_data, test_data, data_details = load_dataset_numpy(args, data_dir='data',\n",
    "                                                        training_time=False)"
   ]
  },
  {
   "cell_type": "code",
   "execution_count": 18,
   "metadata": {},
   "outputs": [
    {
     "data": {
      "text/plain": [
       "Dataset MNIST\n",
       "    Number of datapoints: 1600\n",
       "    Root location: data\n",
       "    Split: Train"
      ]
     },
     "execution_count": 18,
     "metadata": {},
     "output_type": "execute_result"
    }
   ],
   "source": [
    "train_data"
   ]
  },
  {
   "cell_type": "code",
   "execution_count": 19,
   "metadata": {},
   "outputs": [
    {
     "data": {
      "text/plain": [
       "Dataset MNIST\n",
       "    Number of datapoints: 1600\n",
       "    Root location: data\n",
       "    Split: Test"
      ]
     },
     "execution_count": 19,
     "metadata": {},
     "output_type": "execute_result"
    }
   ],
   "source": [
    "test_data"
   ]
  },
  {
   "cell_type": "code",
   "execution_count": 20,
   "metadata": {},
   "outputs": [
    {
     "data": {
      "text/plain": [
       "{'n_channels': 1, 'h_in': 28, 'w_in': 28, 'scale': 255.0}"
      ]
     },
     "execution_count": 20,
     "metadata": {},
     "output_type": "execute_result"
    }
   ],
   "source": [
    "data_details"
   ]
  },
  {
   "cell_type": "code",
   "execution_count": 21,
   "metadata": {},
   "outputs": [
    {
     "name": "stdout",
     "output_type": "stream",
     "text": [
      "800\n"
     ]
    }
   ],
   "source": [
    "DATA_DIM = data_details['n_channels']*data_details['h_in']*data_details['w_in']\n",
    "\n",
    "X = []\n",
    "Y = []\n",
    "\n",
    "# Pytorch normalizes tensors (so need manual here!)\n",
    "if args.use_test:\n",
    "    for (x,y,_, _, _) in test_data:\n",
    "        X.append(x/255.)\n",
    "        Y.append(y)\n",
    "else:\n",
    "    for (x,y,_, _, _) in train_data:\n",
    "        X.append(x/255.)\n",
    "        Y.append(y)\n",
    "\n",
    "X = np.array(X)\n",
    "Y = np.array(Y)\n",
    "\n",
    "num_samples = int(len(X)/2)\n",
    "print(num_samples)"
   ]
  },
  {
   "cell_type": "code",
   "execution_count": 22,
   "metadata": {},
   "outputs": [],
   "source": [
    "X_c1 = X[:num_samples].reshape(num_samples, DATA_DIM)\n",
    "X_c2 = X[num_samples:].reshape(num_samples, DATA_DIM)\n",
    "\n",
    "class_1 = args.class_1\n",
    "class_2 = args.class_2\n",
    "\n",
    "if not os.path.exists('distances'):\n",
    "    os.makedirs('distances')\n",
    "\n",
    "if not os.path.exists('cost_results'):\n",
    "    os.makedirs('cost_results')\n",
    "\n",
    "if args.use_full:\n",
    "    subsample_sizes = [args.num_samples]\n",
    "else:\n",
    "    subsample_sizes = [args.num_samples]\n",
    "   \n",
    "\n",
    "rng = np.random.default_rng(77)"
   ]
  },
  {
   "cell_type": "code",
   "execution_count": 23,
   "metadata": {},
   "outputs": [
    {
     "data": {
      "text/plain": [
       "[800]"
      ]
     },
     "execution_count": 23,
     "metadata": {},
     "output_type": "execute_result"
    }
   ],
   "source": [
    "subsample_sizes"
   ]
  },
  {
   "cell_type": "code",
   "execution_count": 24,
   "metadata": {},
   "outputs": [],
   "source": [
    "n_1=2*subsample_sizes[0]\n",
    "n_2=2*subsample_sizes[0]\n"
   ]
  },
  {
   "cell_type": "code",
   "execution_count": 25,
   "metadata": {},
   "outputs": [
    {
     "ename": "NameError",
     "evalue": "name 'weights' is not defined",
     "output_type": "error",
     "traceback": [
      "\u001b[1;31m---------------------------------------------------------------------------\u001b[0m",
      "\u001b[1;31mNameError\u001b[0m                                 Traceback (most recent call last)",
      "\u001b[1;32m<ipython-input-25-6f5ec41569ac>\u001b[0m in \u001b[0;36m<module>\u001b[1;34m\u001b[0m\n\u001b[1;32m----> 1\u001b[1;33m \u001b[0mweights\u001b[0m\u001b[1;33m\u001b[0m\u001b[1;33m\u001b[0m\u001b[0m\n\u001b[0m",
      "\u001b[1;31mNameError\u001b[0m: name 'weights' is not defined"
     ]
    }
   ],
   "source": [
    "weights"
   ]
  },
  {
   "cell_type": "code",
   "execution_count": 26,
   "metadata": {},
   "outputs": [],
   "source": [
    "eps_user=[[('l2',3.5,0),('l_infinity',0.42,10)],[('l2',3.5,1),('l_infinity',0.42,9)],[('l2',3.5,2),('l_infinity',0.42,8)],[('l2',3.5,3),('l_infinity',0.42,7)],[('l2',3.5,4),('l_infinity',0.42,6)],[('l2',3.5,5),('l_infinity',0.42,5)],[('l2',3.5,6),('l_infinity',0.42,4)],[('l2',3.5,7),('l_infinity',0.42,3)],[('l2',3.5,8),('l_infinity',0.42,2)],[('l2',3.5,9),('l_infinity',0.42,1)],[('l2',3.5,10),('l_infinity',0.42,0)]]"
   ]
  },
  {
   "cell_type": "code",
   "execution_count": 27,
   "metadata": {},
   "outputs": [],
   "source": [
    "#eps[0][0][1]"
   ]
  },
  {
   "cell_type": "code",
   "execution_count": 28,
   "metadata": {},
   "outputs": [],
   "source": [
    "#eps_user=[[0,1],[0,2],[0,3],[0,4],[0,5],[0,6],[0,7],[0,8],[0,9],[0,10],[0,11],[0,12]]"
   ]
  },
  {
   "cell_type": "code",
   "execution_count": 29,
   "metadata": {},
   "outputs": [],
   "source": [
    "import MultipleBudgetEdgeMatrix"
   ]
  },
  {
   "cell_type": "code",
   "execution_count": 30,
   "metadata": {},
   "outputs": [],
   "source": [
    "import math"
   ]
  },
  {
   "cell_type": "code",
   "execution_count": 36,
   "metadata": {},
   "outputs": [],
   "source": [
    "import numpy as np\n",
    "\n",
    "\n",
    "def same_norm_l2(X_c1_curr, X_c2_curr):\n",
    "    final_l2_distance = np.zeros([X_c1_curr.shape[0], X_c2_curr.shape[0]])\n",
    "    for i in tqdm(range(X_c1_curr.shape[0])):\n",
    "        for j in range(X_c2_curr.shape[0]):\n",
    "            final_l2_distance[i][j] = np.linalg.norm(X_c1_curr[i] - X_c2_curr[j], ord=2)\n",
    "    return final_l2_distance\n",
    "\n",
    "\n",
    "def same_norm_l_infinity(X_c1_curr, X_c2_curr):\n",
    "    final_l_infinity_distance = np.zeros([X_c1_curr.shape[0], X_c2_curr.shape[0]])\n",
    "    for i in tqdm(range(X_c1_curr.shape[0])):\n",
    "        for j in range(X_c2_curr.shape[0]):\n",
    "            final_l_infinity_distance[i][j] = np.linalg.norm(X_c1_curr[i] - X_c2_curr[j], ord=np.inf)\n",
    "    return final_l_infinity_distance\n",
    "\n",
    "\n",
    "def same_norm_l1(X_c1_curr, X_c2_curr):\n",
    "    final_l1_distance= np.zeros([X_c1_curr.shape[0], X_c2_curr.shape[0]])\n",
    "    for i in tqdm(range(X_c1_curr.shape[0])):\n",
    "        for j in range(X_c2_curr.shape[0]):\n",
    "            final_l1_distance[i][j] = np.linalg.norm(X_c1_curr[i] - X_c2_curr[j], ord=1)\n",
    "    return final_l1_distance\n",
    "\n",
    "def test_l2_infinity(x, epsilon_infinity):\n",
    "    final_sum = 0\n",
    "    for i in range(len(x)):\n",
    "        if abs(x[i]) >= epsilon_infinity:\n",
    "            final_sum += (abs(x[i]) - epsilon_infinity) ** 2\n",
    "        else:\n",
    "            continue\n",
    "    final_sum = final_sum ** (1 / 2)\n",
    "    return final_sum\n",
    "\n",
    "def different_norm_l2_l_infinity(X_c1_curr, X_c2_curr,epsilon_infinity):\n",
    "    distance_l2_l_infinity = np.zeros([X_c1_curr.shape[0], X_c2_curr.shape[0]])\n",
    "    for i in (range(X_c1_curr.shape[0])):\n",
    "        for j in range(X_c2_curr.shape[0]):\n",
    "            ans = abs(X_c1_curr[i] - X_c2_curr[j])\n",
    "            distance_l2_l_infinity[i][j] = test_l2_infinity(ans,epsilon_infinity)\n",
    "    return  distance_l2_l_infinity\n",
    "\n",
    "def test_l1_infinity(x,epsilon_infinity):\n",
    "    final_sum=0\n",
    "    for i in range(len(x)):\n",
    "        if abs(x[i])>=epsilon_infinity:\n",
    "            final_sum+=abs(abs(x[i])-epsilon_infinity)\n",
    "        else:\n",
    "            continue\n",
    "    return final_sum\n",
    "\n",
    "def different_norm_l1_l_infinity(X_c1_curr, X_c2_curr,epsilon_infinity):\n",
    "    distance_l1_l_infinity= np.zeros([X_c1_curr.shape[0], X_c2_curr.shape[0]])\n",
    "    for i in (range(X_c1_curr.shape[0])):\n",
    "        for j in range(X_c2_curr.shape[0]):\n",
    "            ans = abs(X_c1_curr[i] - X_c2_curr[j])\n",
    "            distance_l1_l_infinity[i][j] = test_l1_infinity(ans, epsilon_infinity)\n",
    "    return distance_l1_l_infinity\n",
    "\n",
    "\n",
    "def find_z(X):\n",
    "    total = 0\n",
    "    z = [0]  # Initialize first element as 0\n",
    "    for i in range(X.shape[0]):\n",
    "        total = total + X[i]\n",
    "        z.append(total)\n",
    "    z = np.array(z)  # Final Z vector\n",
    "    return z\n",
    "\n",
    "\n",
    "# Finding Optimal K using Linear Search and finding lambda value\n",
    "def test_l1_l2(X, epsilon_1):\n",
    "    X = abs(X)\n",
    "    X.sort()\n",
    "    X = X[::-1]\n",
    "    w = X[0] - epsilon_1\n",
    "    for k in range(1, X.shape[0]):\n",
    "        if w < k * X[k]:\n",
    "            w += X[k]\n",
    "            continue\n",
    "        else:\n",
    "            break\n",
    "    lambda_value = w / k\n",
    "\n",
    "    return [X, k, lambda_value]\n",
    "\n",
    "\n",
    "# Finding Minimum Epsilon 2 that intersects Epsilon 1\n",
    "def find_epsilon_2(K, ans, lambda_value):\n",
    "    y = []\n",
    "    for i in range(0, ans.shape[0]):\n",
    "        if i < K:\n",
    "            y.append(lambda_value)\n",
    "        else:\n",
    "            y.append(abs(ans[i]))\n",
    "    y = np.array(y)\n",
    "    distance = np.linalg.norm(y)\n",
    "    return distance\n",
    "\n",
    "\n",
    "# When both the norms are different\n",
    "def different_norm_11_l2(X_c1_curr, X_c2_curr, epsilon_1):\n",
    "    distance_l1_l2 = np.zeros([X_c1_curr.shape[0], X_c2_curr.shape[0]])\n",
    "    for i in (range(X_c1_curr.shape[0])):\n",
    "        for j in range(X_c2_curr.shape[0]):\n",
    "            ans = abs(X_c1_curr[i] - X_c2_curr[j])\n",
    "            X, K, lambda_value = test_l1_l2(ans, epsilon_1)\n",
    "            distance_l1_l2[i][j]= find_epsilon_2(K, X, lambda_value)\n",
    "    return distance_l1_l2 \n",
    "\n",
    "\n",
    "def edge_matrix_calculator(epsilon_user, X_c1_curr, X_c2_curr, storage_same_metrics, storage_different_metrics):\n",
    "    total_edge_matrix = np.empty([len(epsilon_user), len(epsilon_user)], dtype=float)\n",
    "    edge_matrixes = {}\n",
    "    total_edges = 0\n",
    "    for i in range((len(epsilon_user))):\n",
    "        for j in range((len(epsilon_user))):\n",
    "            if epsilon_user[i][0] == epsilon_user[j][0]:\n",
    "                    epsilon_1=epsilon_user[i][1]\n",
    "                    epsilon_2=epsilon_user[j][1]\n",
    "                    key = epsilon_user[i][0]\n",
    "                    if key in storage_same_metrics:\n",
    "                        distance_matrix= storage_same_metrics[key]\n",
    "                    else:\n",
    "                        if epsilon_user[i][0]=='l1':\n",
    "                         distance_matrix = same_norm_l1(X_c1_curr, X_c2_curr)\n",
    "                        elif epsilon_user[i][0]=='l2':\n",
    "                         distance_matrix = same_norm_l2(X_c1_curr, X_c2_curr)\n",
    "                        else:\n",
    "                          distance_matrix = same_norm_l_infinity(X_c1_curr, X_c2_curr) \n",
    "                        storage_same_metrics[epsilon_user[i][0]] = distance_matrix\n",
    "                    new=distance_matrix<=epsilon_1+epsilon_2\n",
    "                        \n",
    "            elif (epsilon_user[i][0] == 'l1' and epsilon_user[j][0] == 'l2') or (epsilon_user[i][0] == 'l2' and epsilon_user[j][0] == 'l1') :\n",
    "                 if epsilon_user[i][0] == 'l1' and epsilon_user[j][0] == 'l2':\n",
    "                   epsilon_1 = epsilon_user[i][1]\n",
    "                   epsilon_2 = epsilon_user[j][1]\n",
    "                 else:\n",
    "                   epsilon_1 = epsilon_user[j][1]\n",
    "                   epsilon_2 = epsilon_user[i][1]\n",
    "              \n",
    "                 key = ('l1','l2',epsilon_1)\n",
    "                 if key in storage_different_metrics:\n",
    "                    distance_matrix= storage_different_metrics[key]\n",
    "                 else:\n",
    "                   distance_matrix= different_norm_11_l2(X_c1_curr, X_c2_curr, epsilon_1)\n",
    "                   key = ('l1','l2',epsilon_1)\n",
    "                   storage_different_metrics[key] = distance_matrix\n",
    "                 new=distance_matrix<=epsilon_2\n",
    "                    \n",
    "            elif (epsilon_user[i][0] == 'l1' and epsilon_user[j][0] == 'l_infinity') or (epsilon_user[i][0] == 'l_infinity' and epsilon_user[j][0] == 'l1') :\n",
    "                 if epsilon_user[i][0] == 'l1' and epsilon_user[j][0] == 'l_infinity':\n",
    "                   epsilon_1 = epsilon_user[i][1]\n",
    "                   epsilon_infinity = epsilon_user[j][1]\n",
    "                 else:\n",
    "                   epsilon_1 = epsilon_user[j][1]\n",
    "                   epsilon_infinity = epsilon_user[i][1]\n",
    "              \n",
    "                 key = ('l1','l_infinity',epsilon_infinity)\n",
    "                 if key in storage_different_metrics:\n",
    "                    distance_matrix= storage_different_metrics[key]\n",
    "                 else:\n",
    "                   distance_matrix= different_norm_l1_l_infinity(X_c1_curr, X_c2_curr,epsilon_infinity)\n",
    "                   key =('l1','l_infinity',epsilon_infinity)\n",
    "                   storage_different_metrics[key] = distance_matrix\n",
    "                 new=distance_matrix<=epsilon_1\n",
    "            else:\n",
    "                 if epsilon_user[i][0] == 'l2' and epsilon_user[j][0] == 'l_infinity':\n",
    "                   epsilon_2 = epsilon_user[i][1]\n",
    "                   epsilon_infinity = epsilon_user[j][1]\n",
    "                 else:\n",
    "                   epsilon_2 = epsilon_user[j][1]\n",
    "                   epsilon_infinity = epsilon_user[i][1]\n",
    "              \n",
    "                 key = ('l2','l_infinity',epsilon_infinity)\n",
    "                 if key in storage_different_metrics:\n",
    "                    distance_matrix= storage_different_metrics[key]\n",
    "                 else:\n",
    "                   distance_matrix= different_norm_l2_l_infinity(X_c1_curr, X_c2_curr,epsilon_infinity)\n",
    "                   key =('l2','l_infinity',epsilon_infinity)\n",
    "                   storage_different_metrics[key] = distance_matrix\n",
    "                 new=distance_matrix<=epsilon_2\n",
    "            new = new.astype(float)\n",
    "            edge_matrixes[i, j] = new\n",
    "            total_edge_matrix[i][j] = new.sum()\n",
    "            total_edges += new.sum()\n",
    "\n",
    "    stacked = []\n",
    "    for i in range(len(epsilon_user)):\n",
    "      h_stack = []\n",
    "      for j in range(len(epsilon_user)):\n",
    "        matrix = edge_matrixes[i, j]\n",
    "        h_stack.append(matrix)\n",
    "      h_stack = tuple(h_stack)\n",
    "      stacked.append(np.hstack(h_stack))  # Horizontal Stack\n",
    "    stacked = tuple(stacked)\n",
    "    edge_matrix = np.vstack(stacked)  # Vertical Stack\n",
    "    return [edge_matrix, total_edge_matrix, total_edges, storage_same_metrics,\n",
    "        storage_different_metrics]  # To Return Edge Matrix , Total Edges and Total Edge Matrix"
   ]
  },
  {
   "cell_type": "code",
   "execution_count": 37,
   "metadata": {},
   "outputs": [],
   "source": [
    "from tqdm import tqdm"
   ]
  },
  {
   "cell_type": "code",
   "execution_count": 38,
   "metadata": {},
   "outputs": [],
   "source": [
    "X_c1_curr = X_c1\n",
    "X_c2_curr = X_c2"
   ]
  },
  {
   "cell_type": "code",
   "execution_count": 39,
   "metadata": {},
   "outputs": [
    {
     "name": "stderr",
     "output_type": "stream",
     "text": [
      "100%|████████████████████████████████████████████████████████████████████████████████| 800/800 [00:09<00:00, 81.16it/s]\n",
      "100%|████████████████████████████████████████████████████████████████████████████████| 800/800 [00:11<00:00, 72.19it/s]\n"
     ]
    },
    {
     "name": "stdout",
     "output_type": "stream",
     "text": [
      "[('l2', 3.5, 0), ('l_infinity', 0.42, 10)] 5774.0\n"
     ]
    },
    {
     "name": "stderr",
     "output_type": "stream",
     "text": [
      "c:\\users\\dell\\appdata\\local\\programs\\python\\python37\\lib\\site-packages\\ipykernel_launcher.py:24: DeprecationWarning: time.clock has been deprecated in Python 3.3 and will be removed from Python 3.8: use time.perf_counter or time.process_time instead\n"
     ]
    },
    {
     "name": "stdout",
     "output_type": "stream",
     "text": [
      "Current queue size at eps [3.5, 0.42] is 1\n",
      "The weight1 is : 8000 , the weight2 is:8000\n",
      "The flow value is:0\n"
     ]
    },
    {
     "name": "stderr",
     "output_type": "stream",
     "text": [
      "c:\\users\\dell\\appdata\\local\\programs\\python\\python37\\lib\\site-packages\\ipykernel_launcher.py:41: DeprecationWarning: time.clock has been deprecated in Python 3.3 and will be removed from Python 3.8: use time.perf_counter or time.process_time instead\n"
     ]
    },
    {
     "ename": "NameError",
     "evalue": "name 'num_edges' is not defined",
     "output_type": "error",
     "traceback": [
      "\u001b[1;31m---------------------------------------------------------------------------\u001b[0m",
      "\u001b[1;31mNameError\u001b[0m                                 Traceback (most recent call last)",
      "\u001b[1;32m<ipython-input-39-92b6bed5831a>\u001b[0m in \u001b[0;36m<module>\u001b[1;34m\u001b[0m\n\u001b[0;32m     47\u001b[0m         \u001b[0mincidence_matrix\u001b[0m\u001b[1;33m=\u001b[0m\u001b[0mnp\u001b[0m\u001b[1;33m.\u001b[0m\u001b[0mzeros\u001b[0m\u001b[1;33m(\u001b[0m\u001b[1;33m(\u001b[0m\u001b[0mnum_edges\u001b[0m\u001b[1;33m,\u001b[0m\u001b[0mv\u001b[0m\u001b[1;33m)\u001b[0m\u001b[1;33m)\u001b[0m\u001b[1;33m\u001b[0m\u001b[1;33m\u001b[0m\u001b[0m\n\u001b[0;32m     48\u001b[0m \u001b[1;33m\u001b[0m\u001b[0m\n\u001b[1;32m---> 49\u001b[1;33m     \u001b[1;32mfor\u001b[0m \u001b[0mi\u001b[0m \u001b[1;32min\u001b[0m \u001b[0mrange\u001b[0m\u001b[1;33m(\u001b[0m\u001b[0mnum_edges\u001b[0m\u001b[1;33m)\u001b[0m\u001b[1;33m:\u001b[0m\u001b[1;33m\u001b[0m\u001b[1;33m\u001b[0m\u001b[0m\n\u001b[0m\u001b[0;32m     50\u001b[0m         \u001b[0mj1\u001b[0m\u001b[1;33m=\u001b[0m\u001b[0medges\u001b[0m\u001b[1;33m[\u001b[0m\u001b[1;36m0\u001b[0m\u001b[1;33m]\u001b[0m\u001b[1;33m[\u001b[0m\u001b[0mi\u001b[0m\u001b[1;33m]\u001b[0m\u001b[1;33m\u001b[0m\u001b[1;33m\u001b[0m\u001b[0m\n\u001b[0;32m     51\u001b[0m         \u001b[0mj2\u001b[0m\u001b[1;33m=\u001b[0m\u001b[0medges\u001b[0m\u001b[1;33m[\u001b[0m\u001b[1;36m1\u001b[0m\u001b[1;33m]\u001b[0m\u001b[1;33m[\u001b[0m\u001b[0mi\u001b[0m\u001b[1;33m]\u001b[0m\u001b[1;33m+\u001b[0m\u001b[1;33m(\u001b[0m\u001b[0mn_1\u001b[0m\u001b[1;33m-\u001b[0m\u001b[1;36m1\u001b[0m\u001b[1;33m)\u001b[0m\u001b[1;33m\u001b[0m\u001b[1;33m\u001b[0m\u001b[0m\n",
      "\u001b[1;31mNameError\u001b[0m: name 'num_edges' is not defined"
     ]
    }
   ],
   "source": [
    "edge_matrix_list=[] \n",
    "total_edges_list=[]\n",
    "total_edge_matrix_list=[]\n",
    "storage_same_metrics={}\n",
    "storage_different_metrics={}\n",
    "for j in (range(len(eps_user))):\n",
    " eps=[eps_user[j][0][1],eps_user[j][1][1]]\n",
    " class1_weight1=[eps_user[j][0][2]]*(n_1//2)\n",
    " class2_weight1=[eps_user[j][1][2]]*(n_1//2)\n",
    " weight1=class1_weight1+class2_weight1\n",
    " class1_weight2=[eps_user[j][0][2]]*(n_2//2)\n",
    " class2_weight2=[eps_user[j][1][2]]*(n_2//2)\n",
    " weight2=class1_weight2+class2_weight2\n",
    " weights=weight1+(weight2)\n",
    " weights=np.array(weights)\n",
    " edge_matrix, total_edge_matrix, total_edges, storage_same_metrics,storage_different_metrics=edge_matrix_calculator(eps_user[j], X_c1_curr, X_c2_curr, storage_same_metrics, storage_different_metrics)\n",
    " edge_matrix_list.append(edge_matrix)\n",
    " total_edge_matrix_list.append(total_edge_matrix)\n",
    " total_edges_list.append(total_edges)\n",
    " print(eps_user[i],total_edges)\n",
    " # Create graph representation\n",
    " graph_rep_array = create_graph_rep(edge_matrix,n_1,n_2,weights)\n",
    "\n",
    " time1= time.clock()\n",
    " q = queue.Queue()\n",
    " # Initial graph indices\n",
    " q.put(np.arange(n_1+n_2+2))\n",
    " sink_idx=n_1+n_2+1\n",
    " count=0\n",
    " classifier_probs=np.zeros(((n_1)+(n_2),2))\n",
    " while not q.empty():\n",
    "    print('Current queue size at eps %s is %s' % (eps,q.qsize()))\n",
    "    curr_idx_list=q.get()\n",
    "    # print(q.qsize())\n",
    "    list_1, list_2, flow_curr=find_flow_and_split(curr_idx_list,weights)\n",
    "    # print(list_1,list_2,flow_curr.flow_value)\n",
    "    if list_1 is not None:\n",
    "        q.put(list_1)\n",
    "    if list_2 is not None:\n",
    "        q.put(list_2)\n",
    "    time2 = time.clock()\n",
    "\n",
    "    if args.run_generic:\n",
    "        v=(n_1+n_2)\n",
    "        num_edges=len(np.where(edge_matrix==1)[0])\n",
    "        edges=np.where(edge_matrix==1)\n",
    "        incidence_matrix=np.zeros((num_edges,v))\n",
    "\n",
    "    for i in range(num_edges):\n",
    "        j1=edges[0][i]\n",
    "        j2=edges[1][i]+(n_1-1)\n",
    "        incidence_matrix[i,j1]=1\n",
    "        incidence_matrix[i,j2]=1\n",
    "\n",
    "    G_in=np.vstack((incidence_matrix,np.eye(v)))\n",
    "    h_in=np.ones((num_edges+v,1))\n",
    "    p=(1.0/v)*np.ones((v,1))\n",
    "\n",
    "    G_in_sparse_np=coo_matrix(G_in)\n",
    "\n",
    "    G_in_sparse=spmatrix(1.0,G_in_sparse_np.nonzero()[0],G_in_sparse_np.nonzero()[1])\n",
    "\n",
    "    solvers.options['maxiters']=1000\n",
    "\n",
    "    time3=time.clock()\n",
    "    output=minll(G_in_sparse,matrix(h_in),matrix(p))\n",
    "    print(output['primal objective'])\n",
    "    time4=time.clock()\n",
    "    if output['status'] == 'optimal':\n",
    "        time_generic_list.append(time4-time3)\n",
    "    else:\n",
    "        time_generic_list.append(-1.0*(time4-time3))\n",
    "\n",
    "    loss_adversary1=0\n",
    "    loss_adversary2=0\n",
    "    for i in range(0,n_1//2):\n",
    "        ans=np.log(classifier_probs[i][0])*weights[i]\n",
    "        if math.isnan(ans)==True:\n",
    "                loss_adversary1+=0\n",
    "        else:\n",
    "            loss_adversary1+=np.log(classifier_probs[i][0])*weights[i]\n",
    "    for i in range(n_1//2,n_1):\n",
    "        ans=np.log(classifier_probs[i][0])*weights[i]\n",
    "        if math.isnan(ans) == True:\n",
    "                    loss_adversary2+=0\n",
    "        else:\n",
    "                    loss_adversary2+=np.log(classifier_probs[i][0])*weights[i]\n",
    "    for i in range(n_1,(n_1+(n_2//2))):\n",
    "        ans=np.log(classifier_probs[i][1])*weights[i]\n",
    "        if math.isnan(ans) == True:\n",
    "                    loss_adversary1+=0\n",
    "        else:\n",
    "                    loss_adversary1+=np.log(classifier_probs[i][1])*weights[i]\n",
    "    for i in range((n_1+(n_2//2)),n_1+n_2):\n",
    "        ans=np.log(classifier_probs[i][1])*weights[i]\n",
    "        if math.isnan(ans)==True:\n",
    "                loss_adversary2+=0\n",
    "        else:\n",
    "                loss_adversary2+=np.log(classifier_probs[i][1])*weights[i]\n",
    "           \n",
    "\n",
    "    avg_loss_adversary1=-1*loss_adversary1/(np.sum(weights[0:n_1//2])+np.sum(weights[n_1:(n_1+(n_2//2))]))\n",
    "\n",
    "    avg_loss_adversary2=-1*loss_adversary2/(np.sum(weights[n_1//2:n_1])+np.sum(weights[(n_1+(n_2//2)):n_1+n_2]))\n",
    "    avg_list_loss_adversary1.append(avg_loss_adversary1)\n",
    "    avg_list_loss_adversary2.append(avg_loss_adversary2)\n",
    "    avg_loss=-1*(loss_adversary1+loss_adversary2)/(np.sum(weights))\n",
    "           \n",
    "\n",
    "    print('Log loss for eps %s is %s' % (eps,avg_loss))\n",
    "    loss_final.append([eps,avg_loss_adversary1,avg_loss_adversary2,avg_loss,subsample_size,[eps_user[j][0][1],eps_user[j][1][1]]])\n",
    "    weight_list.append([np.sum(weights[0:n_1//2]),np.sum(weights[n_1:(n_1+(n_2//2))]),np.sum(weights[n_1//2:n_1]),np.sum(weights[(n_1+(n_2//2)):n_1+n_2])])\n",
    "    time_list.append(time2-time1)\n",
    "\n",
    "   \n",
    "   \n",
    "\n",
    "   \n"
   ]
  },
  {
   "cell_type": "code",
   "execution_count": 67,
   "metadata": {},
   "outputs": [
    {
     "data": {
      "text/plain": [
       "[[0, 0, 16000, 16000],\n",
       " [1600, 1600, 14400, 14400],\n",
       " [3200, 3200, 12800, 12800],\n",
       " [4800, 4800, 11200, 11200],\n",
       " [6400, 6400, 9600, 9600],\n",
       " [8000, 8000, 8000, 8000],\n",
       " [9600, 9600, 6400, 6400],\n",
       " [11200, 11200, 4800, 4800],\n",
       " [12800, 12800, 3200, 3200],\n",
       " [14400, 14400, 1600, 1600],\n",
       " [16000, 16000, 0, 0]]"
      ]
     },
     "execution_count": 67,
     "metadata": {},
     "output_type": "execute_result"
    }
   ],
   "source": [
    "weight_list"
   ]
  },
  {
   "cell_type": "code",
   "execution_count": 68,
   "metadata": {},
   "outputs": [
    {
     "data": {
      "text/plain": [
       "[[[3, 4.5], nan, 0.5716617865813989, 0.5716617865813989, 1600, [0, 10]],\n",
       " [[3, 4.5],\n",
       "  0.21828836151183928,\n",
       "  0.5729185939918673,\n",
       "  0.5374555707438645,\n",
       "  1600,\n",
       "  [1, 9]],\n",
       " [[3, 4.5],\n",
       "  0.1982390377813339,\n",
       "  0.5764202901854228,\n",
       "  0.500784039704605,\n",
       "  1600,\n",
       "  [2, 8]],\n",
       " [[3, 4.5],\n",
       "  0.18068425060085785,\n",
       "  0.582300989225489,\n",
       "  0.4618159676380997,\n",
       "  1600,\n",
       "  [3, 7]],\n",
       " [[3, 4.5],\n",
       "  0.16203319010359438,\n",
       "  0.5923738520646871,\n",
       "  0.42023758728025,\n",
       "  1600,\n",
       "  [4, 6]],\n",
       " [[3, 4.5],\n",
       "  0.14327706202249274,\n",
       "  0.6077890878859669,\n",
       "  0.3755330749542298,\n",
       "  1600,\n",
       "  [5, 5]],\n",
       " [[3, 4.5],\n",
       "  0.12465873301537143,\n",
       "  0.630780939989296,\n",
       "  0.32710761580494124,\n",
       "  1600,\n",
       "  [6, 4]],\n",
       " [[3, 4.5],\n",
       "  0.105862539163118,\n",
       "  0.6661518243164104,\n",
       "  0.2739493247091057,\n",
       "  1600,\n",
       "  [7, 3]],\n",
       " [[3, 4.5],\n",
       "  0.08572819606923167,\n",
       "  0.7277133531186961,\n",
       "  0.21412522747912452,\n",
       "  1600,\n",
       "  [8, 2]],\n",
       " [[3, 4.5],\n",
       "  0.06271501104203528,\n",
       "  0.8653608234280944,\n",
       "  0.1429795922806412,\n",
       "  1600,\n",
       "  [9, 1]],\n",
       " [[3, 4.5], 0.03427716280248951, nan, 0.03427716280248951, 1600, [10, 0]]]"
      ]
     },
     "execution_count": 68,
     "metadata": {},
     "output_type": "execute_result"
    }
   ],
   "source": [
    "loss_final"
   ]
  },
  {
   "cell_type": "code",
   "execution_count": 69,
   "metadata": {},
   "outputs": [
    {
     "data": {
      "text/plain": [
       "[nan,\n",
       " 0.21828836151183928,\n",
       " 0.1982390377813339,\n",
       " 0.18068425060085785,\n",
       " 0.16203319010359438,\n",
       " 0.14327706202249274,\n",
       " 0.12465873301537143,\n",
       " 0.105862539163118,\n",
       " 0.08572819606923167,\n",
       " 0.06271501104203528,\n",
       " 0.03427716280248951]"
      ]
     },
     "execution_count": 69,
     "metadata": {},
     "output_type": "execute_result"
    }
   ],
   "source": [
    "avg_list_loss_adversary1"
   ]
  },
  {
   "cell_type": "code",
   "execution_count": 70,
   "metadata": {},
   "outputs": [
    {
     "data": {
      "text/plain": [
       "[0.5716617865813989,\n",
       " 0.5729185939918673,\n",
       " 0.5764202901854228,\n",
       " 0.582300989225489,\n",
       " 0.5923738520646871,\n",
       " 0.6077890878859669,\n",
       " 0.630780939989296,\n",
       " 0.6661518243164104,\n",
       " 0.7277133531186961,\n",
       " 0.8653608234280944,\n",
       " nan]"
      ]
     },
     "execution_count": 70,
     "metadata": {},
     "output_type": "execute_result"
    }
   ],
   "source": [
    "avg_list_loss_adversary2"
   ]
  },
  {
   "cell_type": "code",
   "execution_count": 71,
   "metadata": {},
   "outputs": [],
   "source": [
    "def function_generator(x,weight_1,weight_2,avg_loss_adversary1,avg_loss_adversary2):\n",
    "    y=((weight_1*avg_loss_adversary1)+(weight_2*avg_loss_adversary2)-(x*weight_1))/weight_2\n",
    "    return y"
   ]
  },
  {
   "cell_type": "code",
   "execution_count": 72,
   "metadata": {},
   "outputs": [
    {
     "name": "stderr",
     "output_type": "stream",
     "text": [
      "\n",
      "Bad key \"text.kerning_factor\" on line 4 in\n",
      "c:\\users\\dell\\appdata\\local\\programs\\python\\python37\\lib\\site-packages\\matplotlib\\mpl-data\\stylelib\\_classic_test_patch.mplstyle.\n",
      "You probably need to get an updated matplotlibrc file from\n",
      "https://github.com/matplotlib/matplotlib/blob/v3.1.2/matplotlibrc.template\n",
      "or from the matplotlib source distribution\n"
     ]
    }
   ],
   "source": [
    "import matplotlib.pyplot as plt\n",
    "import seaborn as sns"
   ]
  },
  {
   "cell_type": "code",
   "execution_count": 73,
   "metadata": {},
   "outputs": [],
   "source": [
    "x=np.linspace(-5,5,100)"
   ]
  },
  {
   "cell_type": "code",
   "execution_count": 74,
   "metadata": {},
   "outputs": [],
   "source": [
    "y=function_generator(x,1,9,0.13092575714018276, 0.6951862895722297)"
   ]
  },
  {
   "cell_type": "code",
   "execution_count": 81,
   "metadata": {},
   "outputs": [
    {
     "data": {
      "image/png": "[encoded data removed]",
      "text/plain": [
       "<Figure size 1080x720 with 1 Axes>"
      ]
     },
     "metadata": {
      "needs_background": "light"
     },
     "output_type": "display_data"
    }
   ],
   "source": [
    "x=np.linspace(0,0.5,100)\n",
    "weight_1=[0,1,2,3,4,5,6,7,8,9,10]\n",
    "weight_2=[10,9,8,7,6,5,4,3,2,1,0]\n",
    "colors=['b','g','r','c','m','y','k','#7f7f7f','#d62728','#d62756','#d62731']\n",
    "plt.figure(figsize=(15,10))\n",
    "for i in range(0,len(avg_list_loss_adversary1)):\n",
    " y=function_generator(x,weight_1[i],weight_2[i],avg_list_loss_adversary1[i],avg_list_loss_adversary2[i])\n",
    " plt.plot(x,y,colors[i],label=\"The graph for weights: \"+str([weight_1[i],weight_2[i]]))\n",
    " plt.plot(avg_list_loss_adversary1[i],avg_list_loss_adversary2[i], colors[i], marker='o', markersize=4)\n",
    " plt.title(\"Graph for Multiple Budget:[3,4.5]\")\n",
    " plt.ylim([0,1])\n",
    " plt.legend()\n",
    "\n"
   ]
  },
  {
   "cell_type": "code",
   "execution_count": 76,
   "metadata": {},
   "outputs": [
    {
     "name": "stdout",
     "output_type": "stream",
     "text": [
      "Requirement already satisfied: sympy in c:\\users\\dell\\appdata\\local\\programs\\python\\python37\\lib\\site-packages (1.10.1)\n",
      "Requirement already satisfied: mpmath>=0.19 in c:\\users\\dell\\appdata\\local\\programs\\python\\python37\\lib\\site-packages (from sympy) (1.2.1)\n",
      "Note: you may need to restart the kernel to use updated packages.\n"
     ]
    },
    {
     "name": "stderr",
     "output_type": "stream",
     "text": [
      "WARNING: Ignoring invalid distribution -illow (c:\\users\\dell\\appdata\\local\\programs\\python\\python37\\lib\\site-packages)\n",
      "WARNING: Ignoring invalid distribution -atplotlib (c:\\users\\dell\\appdata\\local\\programs\\python\\python37\\lib\\site-packages)\n",
      "WARNING: Ignoring invalid distribution -illow (c:\\users\\dell\\appdata\\local\\programs\\python\\python37\\lib\\site-packages)\n",
      "WARNING: Ignoring invalid distribution -atplotlib (c:\\users\\dell\\appdata\\local\\programs\\python\\python37\\lib\\site-packages)\n",
      "WARNING: Ignoring invalid distribution -illow (c:\\users\\dell\\appdata\\local\\programs\\python\\python37\\lib\\site-packages)\n",
      "WARNING: Ignoring invalid distribution -atplotlib (c:\\users\\dell\\appdata\\local\\programs\\python\\python37\\lib\\site-packages)\n",
      "WARNING: Ignoring invalid distribution -illow (c:\\users\\dell\\appdata\\local\\programs\\python\\python37\\lib\\site-packages)\n",
      "WARNING: Ignoring invalid distribution -atplotlib (c:\\users\\dell\\appdata\\local\\programs\\python\\python37\\lib\\site-packages)\n",
      "WARNING: Ignoring invalid distribution -illow (c:\\users\\dell\\appdata\\local\\programs\\python\\python37\\lib\\site-packages)\n",
      "WARNING: Ignoring invalid distribution -atplotlib (c:\\users\\dell\\appdata\\local\\programs\\python\\python37\\lib\\site-packages)\n",
      "WARNING: Ignoring invalid distribution -illow (c:\\users\\dell\\appdata\\local\\programs\\python\\python37\\lib\\site-packages)\n",
      "WARNING: Ignoring invalid distribution -atplotlib (c:\\users\\dell\\appdata\\local\\programs\\python\\python37\\lib\\site-packages)\n",
      "WARNING: You are using pip version 22.0.4; however, version 22.2.2 is available.\n",
      "You should consider upgrading via the 'c:\\users\\dell\\appdata\\local\\programs\\python\\python37\\python.exe -m pip install --upgrade pip' command.\n"
     ]
    }
   ],
   "source": [
    "pip install sympy"
   ]
  },
  {
   "cell_type": "code",
   "execution_count": 77,
   "metadata": {},
   "outputs": [],
   "source": [
    "from sympy import symbols, Eq, solve"
   ]
  },
  {
   "cell_type": "code",
   "execution_count": 78,
   "metadata": {},
   "outputs": [],
   "source": [
    "def two_equation_calculator(a,b,c,d,e,f):\n",
    "    x, y = symbols('x y')\n",
    "    eq1 = Eq(a*x + b*y + c)\n",
    "    eq2 = Eq(d*x + e*y + f)\n",
    "    ans=solve((eq1,eq2), (x, y))\n",
    "    return [ans[x],ans[y]]"
   ]
  },
  {
   "cell_type": "code",
   "execution_count": 79,
   "metadata": {},
   "outputs": [
    {
     "name": "stderr",
     "output_type": "stream",
     "text": [
      "c:\\users\\dell\\appdata\\local\\programs\\python\\python37\\lib\\site-packages\\ipykernel_launcher.py:3: SymPyDeprecationWarning: \n",
      "\n",
      "Eq(expr) with a single argument with the right-hand side\n",
      "defaulting to 0 is deprecated. Use Eq(expr, 0) instead.\n",
      "\n",
      "See https://docs.sympy.org/latest/explanation/active-deprecations.html#deprecated-eq-expr\n",
      "for details.\n",
      "\n",
      "This has been deprecated since SymPy version 1.5. It\n",
      "will be removed in a future version of SymPy.\n",
      "\n",
      "  This is separate from the ipykernel package so we can avoid doing imports until\n"
     ]
    },
    {
     "data": {
      "text/plain": [
       "[0.125000000000000, 0.695000000000000]"
      ]
     },
     "execution_count": 79,
     "metadata": {},
     "output_type": "execute_result"
    }
   ],
   "source": [
    "two_equation_calculator(2,8,-5.81,1,9,-6.38)\n"
   ]
  },
  {
   "cell_type": "code",
   "execution_count": 80,
   "metadata": {},
   "outputs": [],
   "source": [
    "import numpy as np\n",
    "import matplotlib.pyplot as plt"
   ]
  },
  {
   "cell_type": "code",
   "execution_count": 82,
   "metadata": {},
   "outputs": [],
   "source": [
    "a=[1,0.2071,0.1895,0.1706,0.152,0.1335,0.1143,0.0945,0.0717,0.0342]\n",
    "b=[0.5716,0.5741,0.5785,0.5866,0.599,0.6175,0.6463,0.6925,0.7837,1]"
   ]
  },
  {
   "cell_type": "code",
   "execution_count": 83,
   "metadata": {},
   "outputs": [
    {
     "data": {
      "text/plain": [
       "[nan,\n",
       " 0.21828836151183928,\n",
       " 0.1982390377813339,\n",
       " 0.18068425060085785,\n",
       " 0.16203319010359438,\n",
       " 0.14327706202249274,\n",
       " 0.12465873301537143,\n",
       " 0.105862539163118,\n",
       " 0.08572819606923167,\n",
       " 0.06271501104203528,\n",
       " 0.03427716280248951]"
      ]
     },
     "execution_count": 83,
     "metadata": {},
     "output_type": "execute_result"
    }
   ],
   "source": [
    "avg_list_loss_adversary1"
   ]
  },
  {
   "cell_type": "code",
   "execution_count": 84,
   "metadata": {},
   "outputs": [],
   "source": [
    "avg_list_loss_adversary1[0]=1"
   ]
  },
  {
   "cell_type": "code",
   "execution_count": 85,
   "metadata": {},
   "outputs": [
    {
     "data": {
      "text/plain": [
       "[1,\n",
       " 0.21828836151183928,\n",
       " 0.1982390377813339,\n",
       " 0.18068425060085785,\n",
       " 0.16203319010359438,\n",
       " 0.14327706202249274,\n",
       " 0.12465873301537143,\n",
       " 0.105862539163118,\n",
       " 0.08572819606923167,\n",
       " 0.06271501104203528,\n",
       " 0.03427716280248951]"
      ]
     },
     "execution_count": 85,
     "metadata": {},
     "output_type": "execute_result"
    }
   ],
   "source": [
    "avg_list_loss_adversary1"
   ]
  },
  {
   "cell_type": "code",
   "execution_count": 86,
   "metadata": {},
   "outputs": [],
   "source": [
    "avg_list_loss_adversary2[-1]=1"
   ]
  },
  {
   "cell_type": "code",
   "execution_count": 87,
   "metadata": {},
   "outputs": [
    {
     "data": {
      "text/plain": [
       "[0.5716617865813989,\n",
       " 0.5729185939918673,\n",
       " 0.5764202901854228,\n",
       " 0.582300989225489,\n",
       " 0.5923738520646871,\n",
       " 0.6077890878859669,\n",
       " 0.630780939989296,\n",
       " 0.6661518243164104,\n",
       " 0.7277133531186961,\n",
       " 0.8653608234280944,\n",
       " 1]"
      ]
     },
     "execution_count": 87,
     "metadata": {},
     "output_type": "execute_result"
    }
   ],
   "source": [
    "avg_list_loss_adversary2"
   ]
  },
  {
   "cell_type": "code",
   "execution_count": 88,
   "metadata": {},
   "outputs": [],
   "source": [
    "#fill between\n",
    "#function fill\n",
    "\n"
   ]
  },
  {
   "cell_type": "code",
   "execution_count": 108,
   "metadata": {},
   "outputs": [
    {
     "data": {
      "text/plain": [
       "(0, 1)"
      ]
     },
     "execution_count": 108,
     "metadata": {},
     "output_type": "execute_result"
    },
    {
     "data": {
      "image/png": "[encoded data removed]",
      "text/plain": [
       "<Figure size 360x360 with 1 Axes>"
      ]
     },
     "metadata": {
      "needs_background": "light"
     },
     "output_type": "display_data"
    }
   ],
   "source": [
    "#plt.axhline(0, color='green')\n",
    "#plt.axvline(0, color='green')\n",
    "plt.figure(figsize=(5,5))\n",
    "plt.plot(a, b, '-r', linewidth=1)\n",
    "plt.plot(avg_list_loss_adversary1,avg_list_loss_adversary2, '-g', linewidth=1)\n",
    "plt.ylim([0,1])\n",
    "plt.xlim([0,1])"
   ]
  },
  {
   "cell_type": "code",
   "execution_count": 92,
   "metadata": {},
   "outputs": [
    {
     "data": {
      "text/plain": [
       "[<matplotlib.lines.Line2D at 0x1cc01eb3488>]"
      ]
     },
     "execution_count": 92,
     "metadata": {},
     "output_type": "execute_result"
    },
    {
     "data": {
      "image/png": "[encoded data removed]",
      "text/plain": [
       "<Figure size 432x288 with 1 Axes>"
      ]
     },
     "metadata": {
      "needs_background": "light"
     },
     "output_type": "display_data"
    }
   ],
   "source": [
    "plt.plot(a, b, 'ro--', linewidth=2, markersize=4)"
   ]
  },
  {
   "cell_type": "code",
   "execution_count": 93,
   "metadata": {},
   "outputs": [
    {
     "data": {
      "text/plain": [
       "[<matplotlib.lines.Line2D at 0x1cc01f16588>]"
      ]
     },
     "execution_count": 93,
     "metadata": {},
     "output_type": "execute_result"
    },
    {
     "data": {
      "image/png": "[encoded data removed]",
      "text/plain": [
       "<Figure size 432x288 with 1 Axes>"
      ]
     },
     "metadata": {
      "needs_background": "light"
     },
     "output_type": "display_data"
    }
   ],
   "source": [
    "plt.plot(avg_list_loss_adversary1,avg_list_loss_adversary2, 'go--', linewidth=2, markersize=4)"
   ]
  },
  {
   "cell_type": "code",
   "execution_count": null,
   "metadata": {},
   "outputs": [],
   "source": []
  }
 ],
 "metadata": {
  "kernelspec": {
   "display_name": "Python 3",
   "language": "python",
   "name": "python3"
  },
  "language_info": {
   "codemirror_mode": {
    "name": "ipython",
    "version": 3
   },
   "file_extension": ".py",
   "mimetype": "text/x-python",
   "name": "python",
   "nbconvert_exporter": "python",
   "pygments_lexer": "ipython3",
   "version": "3.7.7"
  }
 },
 "nbformat": 4,
 "nbformat_minor": 4
}
